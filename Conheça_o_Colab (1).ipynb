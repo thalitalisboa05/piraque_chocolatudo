{
  "cells": [
    {
      "cell_type": "code",
      "source": [
        "class Pilha:\n",
        "    def __init__(self):\n",
        "        self.itens = []\n",
        "\n",
        "    def push(self, item):\n",
        "        self.itens.append(item)\n",
        "\n",
        "    def pop(self):\n",
        "        if not self.is_empty():\n",
        "            return self.itens.pop()\n",
        "        else:\n",
        "            return None\n",
        "\n",
        "    def is_empty(self):\n",
        "        return len(self.itens) == 0\n",
        "\n",
        "    def tamanho(self):\n",
        "        return len(self.itens)\n",
        "\n",
        "    def topo(self):\n",
        "        if not self.is_empty():\n",
        "            return self.itens[-1]\n",
        "        else:\n",
        "            return None\n",
        "\n",
        "    def mostrar(self):\n",
        "        return self.itens[:]\n",
        "\n",
        "\n",
        "class Carrinho:\n",
        "    def __init__(self):\n",
        "        self.pilha = Pilha()\n",
        "\n",
        "    def adicionar_item(self, instrumento):\n",
        "        print(f\"Adicionando {instrumento} ao carrinho.\")\n",
        "        self.pilha.push(instrumento)\n",
        "\n",
        "    def remover_ultimo_item(self):\n",
        "        item = self.pilha.pop()\n",
        "        if item:\n",
        "            print(f\"Removendo {item} do carrinho.\")\n",
        "        else:\n",
        "            print(\"Carrinho vazio, nada para remover.\")\n",
        "\n",
        "    def ver_carrinho(self):\n",
        "        if self.pilha.is_empty():\n",
        "            print(\"Carrinho está vazio.\")\n",
        "        else:\n",
        "            print(\"Itens no carrinho (do último ao primeiro):\")\n",
        "            for item in reversed(self.pilha.mostrar()):\n",
        "                print(f\"- {item}\")\n",
        "if __name__ == \"__main__\":\n",
        "    carrinho = Carrinho()\n",
        "\n",
        "    carrinho.adicionar_item(\"Guitarra Fender Stratocaster\")\n",
        "    carrinho.adicionar_item(\"Teclado Yamaha PSR\")\n",
        "    carrinho.adicionar_item(\"Bateria Pearl Export\")\n",
        "\n",
        "    carrinho.ver_carrinho()\n",
        "\n",
        "    carrinho.remover_ultimo_item()\n",
        "    carrinho.ver_carrinho()\n",
        "\n",
        "    carrinho.remover_ultimo_item()\n",
        "    carrinho.remover_ultimo_item()\n",
        "    carrinho.remover_ultimo_item()\n"
      ],
      "metadata": {
        "colab": {
          "base_uri": "https://localhost:8080/"
        },
        "id": "Vuuaz3cTIQOx",
        "outputId": "e368f101-36be-47bc-9f5c-5b9015b890c6"
      },
      "execution_count": 6,
      "outputs": [
        {
          "output_type": "stream",
          "name": "stdout",
          "text": [
            "Adicionando Guitarra Fender Stratocaster ao carrinho.\n",
            "Adicionando Teclado Yamaha PSR ao carrinho.\n",
            "Adicionando Bateria Pearl Export ao carrinho.\n",
            "Itens no carrinho (do último ao primeiro):\n",
            "- Bateria Pearl Export\n",
            "- Teclado Yamaha PSR\n",
            "- Guitarra Fender Stratocaster\n",
            "Removendo Bateria Pearl Export do carrinho.\n",
            "Itens no carrinho (do último ao primeiro):\n",
            "- Teclado Yamaha PSR\n",
            "- Guitarra Fender Stratocaster\n",
            "Removendo Teclado Yamaha PSR do carrinho.\n",
            "Removendo Guitarra Fender Stratocaster do carrinho.\n",
            "Carrinho vazio, nada para remover.\n"
          ]
        }
      ]
    }
  ],
  "metadata": {
    "colab": {
      "name": "Conheça o Colab",
      "toc_visible": true,
      "provenance": []
    },
    "kernelspec": {
      "display_name": "Python 3",
      "name": "python3"
    }
  },
  "nbformat": 4,
  "nbformat_minor": 0
}
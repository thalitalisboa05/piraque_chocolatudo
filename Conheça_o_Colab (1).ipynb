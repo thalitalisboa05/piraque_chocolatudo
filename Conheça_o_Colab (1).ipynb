{
  "cells": [
    {
      "cell_type": "code",
      "source": [
        "produtos = [\n",
        "    [1, \"Violão Clássico\", \"Cordas\", 499.90, 12],\n",
        "    [2, \"Bateria Acústica\", \"Percussão\", 1299.00, 5],\n",
        "    [3, \"Teclado Yamaha\", \"Teclas\", 799.00, 7]\n",
        "]\n",
        "\n",
        "print(\"ID | Nome              | Categoria   | Preço   | Estoque\")\n",
        "print(\"-\" * 55)\n",
        "for produto in produtos:\n",
        "    print(f\"{produto[0]:<3} | {produto[1]:<17} | {produto[2]:<11} | R${produto[3]:<7.2f} | {produto[4]}\")"
      ],
      "metadata": {
        "id": "gNGbeCa7DFPE",
        "outputId": "77c9ff08-5328-4c1d-c09e-61048b3241ee",
        "colab": {
          "base_uri": "https://localhost:8080/"
        }
      },
      "execution_count": 1,
      "outputs": [
        {
          "output_type": "stream",
          "name": "stdout",
          "text": [
            "ID | Nome              | Categoria   | Preço   | Estoque\n",
            "-------------------------------------------------------\n",
            "1   | Violão Clássico   | Cordas      | R$499.90  | 12\n",
            "2   | Bateria Acústica  | Percussão   | R$1299.00 | 5\n",
            "3   | Teclado Yamaha    | Teclas      | R$799.00  | 7\n"
          ]
        }
      ]
    }
  ],
  "metadata": {
    "colab": {
      "name": "Conheça o Colab",
      "toc_visible": true,
      "provenance": []
    },
    "kernelspec": {
      "display_name": "Python 3",
      "name": "python3"
    }
  },
  "nbformat": 4,
  "nbformat_minor": 0
}
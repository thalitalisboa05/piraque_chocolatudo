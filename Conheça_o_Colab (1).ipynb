class Pilha:
    def __init__(self):
        self.itens = []

    def push(self, item):
        self.itens.append(item)

    def pop(self):
        if self.is_empty():
            raise IndexError("Pilha vazia: não é possível remover item.")
        return self.itens.pop()

    def is_empty(self):
        return len(self.itens) == 0

    def tamanho(self):
        return len(self.itens)

    def topo(self):
        if self.is_empty():
            return None
        return self.itens[-1]

    def mostrar(self):
        return self.itens[:]


class Carrinho:
    def __init__(self):
        self.pilha = Pilha()

    def adicionar_item(self, instrumento):
        print(f"Adicionando {instrumento} ao carrinho.")
        self.pilha.push(instrumento)

    def remover_ultimo_item(self):
        try:
            item = self.pilha.pop()
            print(f"Removendo {item} do carrinho.")
        except IndexError:
            print("Carrinho vazio, nada para remover.")

    def ver_carrinho(self):
        if self.pilha.is_empty():
            print("Carrinho está vazio.")
            return
        print("Itens no carrinho (do último ao primeiro):")
        for item in reversed(self.pilha.itens):
            print(f"- {item}")


def menu():
    print("\nMenu:")
    print("1 - Adicionar instrumento")
    print("2 - Remover último instrumento")
    print("3 - Ver carrinho")
    print("4 - Sair")

if __name__ == "__main__":
    carrinho = Carrinho()

    while True:
        menu()
        escolha = input("Escolha uma opção: ").strip()

        if escolha == "1":
            instrumento = input("Digite o nome do instrumento para adicionar: ").strip()
            if instrumento:
                carrinho.adicionar_item(instrumento)
            else:
                print("Instrumento inválido.")
        elif escolha == "2":
            carrinho.remover_ultimo_item()
        elif escolha == "3":
            carrinho.ver_carrinho()
        elif escolha == "4":
            print("Saindo do programa. Até mais!")
            break
        else:
            print("Opção inválida, tente novamente.")









usuarios_logados = []

# Função para login
def login(usuario):
    if usuario not in usuarios_logados:
        usuarios_logados.append(usuario)
        print(f"{usuario} fez login.")
    else:
        print(f"{usuario} já está logado.")


def logout(usuario):
    if usuario in usuarios_logados:
        usuarios_logados.remove(usuario)
        print(f"{usuario} fez logout.")
    else:
        print(f"{usuario} não está logado.")

def mostrar_usuarios():
    if usuarios_logados:
        print("Usuários atualmente logados:")
        for usuario in usuarios_logados:
            print(f"- {usuario}")
    else:
        print("Nenhum usuário logado no momento.")


while True:
    print("\nMenu:")
    print("1 - Login")
    print("2 - Logout")
    print("3 - Mostrar usuários logados")
    print("0 - Sair")

    opcao = input("Escolha uma opção: ")

    if opcao == "1":
        nome = input("Digite o nome do usuário para login: ")
        login(nome)
    elif opcao == "2":
        nome = input("Digite o nome do usuário para logout: ")
        logout(nome)
    elif opcao == "3":
        mostrar_usuarios()
    elif opcao == "0":
        print("Saindo do programa...")
        break
    else:
        print("Opção inválida. Tente novamente.")

from collections import deque

# Fila de usuários logados
fila_usuarios = deque()

def login(usuario):
    if usuario not in fila_usuarios:
        fila_usuarios.append(usuario)
        print(f"{usuario} fez login.")
    else:
        print(f"{usuario} já está logado.")

def logout():
    if fila_usuarios:
        usuario = fila_usuarios.popleft()
        print(f"{usuario} fez logout.")
    else:
        print("Nenhum usuário está logado para fazer logout.")

def mostrar_usuarios():
    if fila_usuarios:
        print("Usuários atualmente logados (ordem de login):")
        for usuario in fila_usuarios:
            print(f"- {usuario}")
    else:
        print("Nenhum usuário logado no momento.")

while True:
    print("\nMenu:")
    print("1 - Login")
    print("2 - Logout (remove o usuário que entrou primeiro)")
    print("3 - Mostrar usuários logados")
    print("0 - Sair")

    opcao = input("Escolha uma opção: ")

    if opcao == "1":
        nome = input("Digite o nome do usuário para login: ")
        login(nome)
    elif opcao == "2":
        logout()
    elif opcao == "3":
        mostrar_usuarios()
    elif opcao == "0":
        print("Saindo do programa...")
        break
    else:
        print("Opção inválida. Tente novamente.")

class Pilha:
    def __init__(self):
        self.itens = []

    def push(self, item):
        self.itens.append(item)

    def pop(self):
        if self.is_empty():
            raise IndexError("Pilha vazia: não é possível remover item.")
        return self.itens.pop()

    def is_empty(self):
        return len(self.itens) == 0

    def tamanho(self):
        return len(self.itens)

    def topo(self):
        if self.is_empty():
            return None
        return self.itens[-1]

    def mostrar(self):
        return self.itens[:]


class Carrinho:
    def __init__(self):
        self.pilha = Pilha()

    def adicionar_item(self, instrumento):
        print(f"Adicionando {instrumento} ao carrinho.")
        self.pilha.push(instrumento)

    def remover_ultimo_item(self):
        try:
            item = self.pilha.pop()
            print(f"Removendo {item} do carrinho.")
        except IndexError:
            print("Carrinho vazio, nada para remover.")

    def ver_carrinho(self):
        if self.pilha.is_empty():
            print("Carrinho está vazio.")
            return
        print("Itens no carrinho (do último ao primeiro):")
        for item in reversed(self.pilha.itens):
            print(f"- {item}")


def menu():
    print("\nMenu:")
    print("1 - Adicionar instrumento")
    print("2 - Remover último instrumento")
    print("3 - Ver carrinho")
    print("4 - Sair")

if __name__ == "__main__":
    carrinho = Carrinho()

    while True:
        menu()
        escolha = input("Escolha uma opção: ").strip()

        if escolha == "1":
            instrumento = input("Digite o nome do instrumento para adicionar: ").strip()
            if instrumento:
                carrinho.adicionar_item(instrumento)
            else:
                print("Instrumento inválido.")
        elif escolha == "2":
            carrinho.remover_ultimo_item()
        elif escolha == "3":
            carrinho.ver_carrinho()
        elif escolha == "4":
            print("Saindo do programa. Até mais!")
            break
        else:
            print("Opção inválida, tente novamente.")
            

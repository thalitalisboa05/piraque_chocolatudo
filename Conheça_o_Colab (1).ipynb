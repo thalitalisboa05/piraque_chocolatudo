class Pilha:
    def __init__(self):
        self.itens = []

    def push(self, item):
        self.itens.append(item)

    def pop(self):
        if self.is_empty():
            raise IndexError("Pilha vazia: não é possível remover item.")
        return self.itens.pop()

    def is_empty(self):
        return len(self.itens) == 0

    def tamanho(self):
        return len(self.itens)

    def topo(self):
        if self.is_empty():
            return None
        return self.itens[-1]

    def mostrar(self):
        return self.itens[:]


class Carrinho:
    def __init__(self):
        self.pilha = Pilha()

    def adicionar_item(self, instrumento):
        print(f"Adicionando {instrumento} ao carrinho.")
        self.pilha.push(instrumento)

    def remover_ultimo_item(self):
        try:
            item = self.pilha.pop()
            print(f"Removendo {item} do carrinho.")
        except IndexError:
            print("Carrinho vazio, nada para remover.")

    def ver_carrinho(self):
        if self.pilha.is_empty():
            print("Carrinho está vazio.")
            return
        print("Itens no carrinho (do último ao primeiro):")
        for item in reversed(self.pilha.itens):
            print(f"- {item}")


def menu():
    print("\nMenu:")
    print("1 - Adicionar instrumento")
    print("2 - Remover último instrumento")
    print("3 - Ver carrinho")
    print("4 - Sair")

if __name__ == "__main__":
    carrinho = Carrinho()

    while True:
        menu()
        escolha = input("Escolha uma opção: ").strip()

        if escolha == "1":
            instrumento = input("Digite o nome do instrumento para adicionar: ").strip()
            if instrumento:
                carrinho.adicionar_item(instrumento)
            else:
                print("Instrumento inválido.")
        elif escolha == "2":
            carrinho.remover_ultimo_item()
        elif escolha == "3":
            carrinho.ver_carrinho()
        elif escolha == "4":
            print("Saindo do programa. Até mais!")
            break
        else:
            print("Opção inválida, tente novamente.")

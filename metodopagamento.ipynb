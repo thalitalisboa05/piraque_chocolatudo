{
  "nbformat": 4,
  "nbformat_minor": 0,
  "metadata": {
    "colab": {
      "provenance": []
    },
    "kernelspec": {
      "name": "python3",
      "display_name": "Python 3"
    },
    "language_info": {
      "name": "python"
    }
  },
  "cells": [
    {
      "cell_type": "code",
      "execution_count": 2,
      "metadata": {
        "colab": {
          "base_uri": "https://localhost:8080/"
        },
        "id": "k2cfPQDASSu5",
        "outputId": "adab2fa1-eb5d-4544-c883-1af697df99e6"
      },
      "outputs": [
        {
          "output_type": "stream",
          "name": "stdout",
          "text": [
            "['1-pix', '2- Cartão de crédito', '3-Boleto']\n",
            "Escolha o método de pagamento 1,2 ou 3:2\n",
            "2- Cartão de crédito\n"
          ]
        }
      ],
      "source": [
        "import numpy as np\n",
        "\n",
        "vetor = np.array ([])\n",
        "metodo_pagamento = ['1-pix', \"2- Cartão de crédito\", \"3-Boleto\"]\n",
        "print (metodo_pagamento)\n",
        "p = input(\"Escolha o método de pagamento 1,2 ou 3:\")\n",
        "if p == \"1\":\n",
        "  print(metodo_pagamento[0])\n",
        "elif p == \"2\":\n",
        "  print(metodo_pagamento[1])\n",
        "elif p ==\"3\":\n",
        "    print (metodo_pagamento[2])\n",
        "else:\n",
        "  print(\"Opção inválida\")\n"
      ]
    }
  ]
}
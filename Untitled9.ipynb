{
  "nbformat": 4,
  "nbformat_minor": 0,
  "metadata": {
    "colab": {
      "provenance": []
    },
    "kernelspec": {
      "name": "python3",
      "display_name": "Python 3"
    },
    "language_info": {
      "name": "python"
    }
  },
  "cells": [
    {
      "cell_type": "code",
      "execution_count": 7,
      "metadata": {
        "colab": {
          "base_uri": "https://localhost:8080/"
        },
        "id": "S6h3842CB3Sa",
        "outputId": "3efbea22-a3ef-426f-a6bd-90e7a2c2be33"
      },
      "outputs": [
        {
          "output_type": "stream",
          "name": "stdout",
          "text": [
            "Lixboa fez login.\n",
            "Vieiro fez login.\n",
            "Usuários logados: ['Lixboa', 'Vieiro']\n",
            "Lixboa fez logout.\n",
            "Usuários logados: ['Vieiro']\n",
            "Rafofa não está logado.\n"
          ]
        }
      ],
      "source": [
        "usuarios_logados = []\n",
        "\n",
        "def login(usuario):\n",
        "    if usuario not in usuarios_logados:\n",
        "        usuarios_logados.append(usuario)\n",
        "        print(f\"{usuario} fez login.\")\n",
        "    else:\n",
        "        print(f\"{usuario} já está logado.\")\n",
        "\n",
        "def logout(usuario):\n",
        "    if usuario in usuarios_logados:\n",
        "        usuarios_logados.remove(usuario)\n",
        "        print(f\"{usuario} fez logout.\")\n",
        "    else:\n",
        "        print(f\"{usuario} não está logado.\")\n",
        "\n",
        "def listar_logados():\n",
        "    print(\"Usuários logados:\", usuarios_logados)\n",
        "\n",
        "# Testando\n",
        "login(\"Lixboa\")\n",
        "login(\"Vieiro\")\n",
        "listar_logados()\n",
        "logout(\"Lixboa\")\n",
        "listar_logados()\n",
        "logout(\"Rafofa\")\n"
      ]
    },
    {
      "cell_type": "code",
      "source": [
        "usuarios_logados = []\n",
        "\n",
        "def login(usuario):\n",
        "    if usuario not in usuarios_logados:\n",
        "        usuarios_logados.append(usuario)\n",
        "        print(f\"{usuario} fez login.\")\n",
        "    else:\n",
        "        print(f\"{usuario} já está logado.\")\n",
        "\n",
        "def logout(usuario):\n",
        "    if usuario in usuarios_logados:\n",
        "        usuarios_logados.remove(usuario)\n",
        "        print(f\"{usuario} fez logout.\")\n",
        "    else:\n",
        "        print(f\"{usuario} não está logado.\")\n",
        "\n",
        "def mostrar_usuarios():\n",
        "    if usuarios_logados:\n",
        "        print(\"Usuários atualmente logados:\", usuarios_logados)\n",
        "    else:\n",
        "        print(\"Nenhum usuário logado no momento.\")\n",
        ""
      ],
      "metadata": {
        "id": "CgJnWjTsICJy"
      },
      "execution_count": 14,
      "outputs": []
    },
    {
      "cell_type": "code",
      "source": [
        "usuarios_logados = []\n",
        "\n",
        "def login(usuario):\n",
        "    if usuario not in usuarios_logados:\n",
        "        usuarios_logados.append(usuario)\n",
        "        print(f\"{usuario} fez login.\")\n",
        "    else:\n",
        "        print(f\"{usuario} já está logado.\")\n",
        "\n",
        "def logout(usuario):\n",
        "    if usuario in usuarios_logados:\n",
        "        usuarios_logados.remove(usuario)\n",
        "        print(f\"{usuario} fez logout.\")\n",
        "    else:\n",
        "        print(f\"{usuario} não está logado.\")\n",
        "\n",
        "def mostrar_usuarios():\n",
        "    if usuarios_logados:\n",
        "        print(\"Usuários atualmente logados:\", usuarios_logados)\n",
        "    else:\n",
        "        print(\"Nenhum usuário logado no momento.\")\n",
        "\n",
        "\n",
        "# Testando o sistema\n",
        "login(\"Alice\")\n",
        "login(\"Bob\")\n",
        "login(\"Carlos\")\n",
        "mostrar_usuarios()\n",
        "\n",
        "logout(\"Bob\")\n",
        "mostrar_usuarios()\n",
        "\n",
        "logout(\"Daniel\")  # Tentando remover alguém que não está logado\n"
      ],
      "metadata": {
        "colab": {
          "base_uri": "https://localhost:8080/"
        },
        "id": "FszHUVbmNUik",
        "outputId": "916cb7d1-65f7-47ad-a473-ca18645dc580"
      },
      "execution_count": 11,
      "outputs": [
        {
          "output_type": "stream",
          "name": "stdout",
          "text": [
            "Alice fez login.\n",
            "Bob fez login.\n",
            "Carlos fez login.\n",
            "Usuários atualmente logados: ['Alice', 'Bob', 'Carlos']\n",
            "Bob fez logout.\n",
            "Usuários atualmente logados: ['Alice', 'Carlos']\n",
            "Daniel não está logado.\n"
          ]
        }
      ]
    }
  ]
}